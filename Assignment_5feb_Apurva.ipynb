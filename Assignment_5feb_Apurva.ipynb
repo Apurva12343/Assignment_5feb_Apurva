{
 "cells": [
  {
   "cell_type": "code",
   "execution_count": 1,
   "id": "ef7a40f8-bde2-4f81-a063-d140df4d53d2",
   "metadata": {},
   "outputs": [],
   "source": [
    "# Q1. Explain Class and Object with respect to Object-Oriented Programming. Give a suitable example."
   ]
  },
  {
   "cell_type": "code",
   "execution_count": 2,
   "id": "4ada718a-b06a-429f-87d6-599b06eba3ac",
   "metadata": {},
   "outputs": [
    {
     "data": {
      "text/plain": [
       "('Apurva Aryan', 22, 7896321456)"
      ]
     },
     "execution_count": 2,
     "metadata": {},
     "output_type": "execute_result"
    }
   ],
   "source": [
    "# Answer:-\n",
    "# A class is a blueprint or a template for creating objects. It defines a set of attributes and methods that an object of that class will have.\n",
    "# An object is an instance of a class. It is a unique representation of the data and behavior defined in the class.\n",
    "# example:-\n",
    "class test():\n",
    "    def __init__(self,name,age,phone_number):\n",
    "        self.name = name\n",
    "        self.age = age\n",
    "        self.phone_number = phone_number\n",
    "    def myfunction1(self):\n",
    "        return self.name,self.age,self.phone_number\n",
    "Apurva = test(\"Apurva Aryan\",22,7896321456)\n",
    "Apurva.myfunction1()\n",
    "# in the above code test() is a class,and Apurva is an object."
   ]
  },
  {
   "cell_type": "code",
   "execution_count": 3,
   "id": "c2b931d7-9279-45da-a17b-bab47520ec04",
   "metadata": {},
   "outputs": [],
   "source": [
    "#Q2. Name the four pillars of OOPs. "
   ]
  },
  {
   "cell_type": "code",
   "execution_count": 4,
   "id": "4c893874-8944-46f3-a151-c29726f66698",
   "metadata": {},
   "outputs": [],
   "source": [
    "# Answer:-\n",
    "# There are four four pillars of OOPs:\n",
    "# 1. Polymorphism\n",
    "# 2. Inheritance\n",
    "# 3. Abstractiion\n",
    "# 4. Encapsulation"
   ]
  },
  {
   "cell_type": "code",
   "execution_count": 5,
   "id": "f35b016e-7112-4193-b62b-3e47d57b4b87",
   "metadata": {},
   "outputs": [],
   "source": [
    "# Q3. Explain why the __init__() function is used. Give a suitable example."
   ]
  },
  {
   "cell_type": "code",
   "execution_count": 6,
   "id": "39ea6b2d-9e5e-4e23-a4a2-cdf589e1246d",
   "metadata": {},
   "outputs": [
    {
     "name": "stdout",
     "output_type": "stream",
     "text": [
      "Apurva Aryan\n",
      "22\n"
     ]
    }
   ],
   "source": [
    "# __init__ function is used to initialize the attributes of an object when it is created. it is also known as the \"constructor\" of the class.\n",
    "# Example:-\n",
    "class Person:\n",
    "    def __init__(self, name, age):\n",
    "        self.name = name\n",
    "        self.age = age\n",
    "\n",
    "Apurva = Person(\"Apurva Aryan\", 22)\n",
    "\n",
    "print(Apurva.name)\n",
    "print(Apurva.age)"
   ]
  },
  {
   "cell_type": "code",
   "execution_count": 7,
   "id": "b64f07b3-7682-45c6-9f88-246936b7a38a",
   "metadata": {},
   "outputs": [],
   "source": [
    "# Q4. Why self is used in OOPs?"
   ]
  },
  {
   "cell_type": "code",
   "execution_count": 8,
   "id": "1ad4774f-a6bf-4594-ad33-76da4b29e360",
   "metadata": {},
   "outputs": [],
   "source": [
    "# When a method is called on an object, self is automatically passed as the first argument to the method. This allows the method to access and modify the attributes of the object. The use of self helps to distinguish the attributes and methods of an object from those of other objects, even if they have the same name."
   ]
  },
  {
   "cell_type": "code",
   "execution_count": 9,
   "id": "9c34ff57-4a30-4cce-a06c-c87979409d1a",
   "metadata": {},
   "outputs": [],
   "source": [
    "# Q5. What is inheritance? Give an example for each type of inheritance. "
   ]
  },
  {
   "cell_type": "code",
   "execution_count": 10,
   "id": "cbda69d7-5169-41b6-80f0-9012f495812a",
   "metadata": {},
   "outputs": [],
   "source": [
    "# # Inheritance is a mechanism in Object-Oriented Programming (OOP) that allows a new class to be created from an existing class. The new class is called the derived class or child class, and the existing class is called the base class or parent class.\n",
    "# # there are five types of Inheritance:\n",
    "# 1. Single Inheritance\n",
    "# 2. Multiple Inheritance\n",
    "# 3. Multi level Inheritance\n",
    "# 4. Hypothetical Inheritance\n",
    "# 5. Hybrid Inheritance\n"
   ]
  },
  {
   "cell_type": "code",
   "execution_count": 14,
   "id": "a15f9c21-435c-4bde-89d3-a4449ae77f8d",
   "metadata": {},
   "outputs": [
    {
     "name": "stdout",
     "output_type": "stream",
     "text": [
      "Meow\n"
     ]
    }
   ],
   "source": [
    "# Example Single Inheritance:\n",
    "class animal():\n",
    "    def __init__(self,Name):\n",
    "        self.Name = Name\n",
    "    def Sound(self):\n",
    "        print(\"Make sound\")\n",
    "    \n",
    "class cat(animal):\n",
    "    def Sound(self):\n",
    "        print(\"Meow\")\n",
    "Cat = cat(\"Kitty\")\n",
    "Cat.Sound()"
   ]
  },
  {
   "cell_type": "code",
   "execution_count": 18,
   "id": "27575c88-0a56-4d34-b40a-b32ec2d27431",
   "metadata": {},
   "outputs": [
    {
     "name": "stdout",
     "output_type": "stream",
     "text": [
      "i can live with human\n",
      "meow\n"
     ]
    }
   ],
   "source": [
    "#Example Multiple Inheritance:\n",
    "class animal1():\n",
    "    def __init__(self,name):\n",
    "        self.name = name\n",
    "    def sound(self):\n",
    "        print(\"Make sound\")\n",
    "class pet():\n",
    "    def behaviour():\n",
    "        print(\"it can live with human\")\n",
    "class cat1(animal1,pet):\n",
    "    def sound(self):\n",
    "        print(\"meow\")\n",
    "    def behaviour(self):\n",
    "        print(\"i can live with human\")\n",
    "kitty = cat1(\"kitty\")\n",
    "kitty.behaviour()\n",
    "kitty.sound()"
   ]
  },
  {
   "cell_type": "code",
   "execution_count": 20,
   "id": "12c88182-e7da-40b3-8b0f-68f2d3133608",
   "metadata": {},
   "outputs": [
    {
     "name": "stdout",
     "output_type": "stream",
     "text": [
      "Woof!\n",
      "i can Give birth\n",
      "i am a pet\n"
     ]
    }
   ],
   "source": [
    "#Example Multi level Inheritance:\n",
    "class Animal:\n",
    "    def __init__(self, name):\n",
    "        self.name = name\n",
    "        \n",
    "    def make_sound(self):\n",
    "        print(\"Woof!\")\n",
    "\n",
    "class Mammal(Animal):\n",
    "    def give_birth(self):\n",
    "        print(\"i can Give birth\")\n",
    "\n",
    "class Dog(Mammal):\n",
    "    def behaviour(self):\n",
    "        print(\"i am a pet\")\n",
    "        \n",
    "dog = Dog(\"Brownie\")\n",
    "dog.make_sound()\n",
    "dog.give_birth()\n",
    "dog.behaviour()"
   ]
  },
  {
   "cell_type": "code",
   "execution_count": 22,
   "id": "c16d8441-fe40-4102-bc88-876ab3019116",
   "metadata": {},
   "outputs": [
    {
     "name": "stdout",
     "output_type": "stream",
     "text": [
      "Parent of Papa and Uncle\n",
      "1st Child of Grandfather\n",
      "Parent of Papa and Uncle\n",
      "2nd Child of Grandfather\n"
     ]
    }
   ],
   "source": [
    "# Example Hypothetical Inheritance:\n",
    "class Grandfather:\n",
    "    def function_1(self):\n",
    "        print ('Parent of Papa and Uncle')\n",
    "\n",
    "class Papa(Grandfather):\n",
    "    def function_2(self):\n",
    "        print ('1st Child of Grandfather')\n",
    "\n",
    "class Uncle(Grandfather):\n",
    "    def function_3(self):\n",
    "        print ('2nd Child of Grandfather')\n",
    "\n",
    "Vivek = Papa()\n",
    "Ajay = Uncle()\n",
    "Vivek.function_1()\n",
    "Vivek.function_2()\n",
    "Ajay.function_1()\n",
    "Ajay.function_3()"
   ]
  },
  {
   "cell_type": "code",
   "execution_count": 27,
   "id": "f74e491d-b1fd-42b8-a4b7-a30110c22224",
   "metadata": {},
   "outputs": [
    {
     "name": "stdout",
     "output_type": "stream",
     "text": [
      "This is a Data Company\n",
      "I am a Data Analyst in Data Company\n",
      "I am a Data Engineer in Data Company\n",
      "I am a Data Scientist in Data Company\n"
     ]
    }
   ],
   "source": [
    "# Example Hybrid Inheritance:\n",
    "class Office:\n",
    "\n",
    "    def func1(self):\n",
    "        print ('This is a Data Company')\n",
    "\n",
    "class Emp1(Office):\n",
    "\n",
    "    def func2(self):\n",
    "        print ('I am a Data Analyst in Data Company')\n",
    "\n",
    "class Emp2:\n",
    "\n",
    "    def func3(self):\n",
    "        print ('I am a Data Engineer in Data Company')\n",
    "\n",
    "class Emp3(Emp1, Emp2):\n",
    "\n",
    "    def func4(self):\n",
    "        print ('I am a Data Scientist in Data Company')\n",
    "\n",
    "Data_company = Emp3()\n",
    "Data_company.func1()\n",
    "Data_company.func2()\n",
    "Data_company.func3()\n",
    "Data_company.func4()"
   ]
  },
  {
   "cell_type": "code",
   "execution_count": null,
   "id": "c4f73a9c-9c39-486b-9cf7-ed5df591e393",
   "metadata": {},
   "outputs": [],
   "source": []
  }
 ],
 "metadata": {
  "kernelspec": {
   "display_name": "Python 3 (ipykernel)",
   "language": "python",
   "name": "python3"
  },
  "language_info": {
   "codemirror_mode": {
    "name": "ipython",
    "version": 3
   },
   "file_extension": ".py",
   "mimetype": "text/x-python",
   "name": "python",
   "nbconvert_exporter": "python",
   "pygments_lexer": "ipython3",
   "version": "3.10.6"
  }
 },
 "nbformat": 4,
 "nbformat_minor": 5
}
